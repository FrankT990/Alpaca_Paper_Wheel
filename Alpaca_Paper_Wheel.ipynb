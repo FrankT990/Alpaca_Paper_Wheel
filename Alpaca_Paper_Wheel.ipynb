{
 "cells": [
  {
   "cell_type": "code",
   "execution_count": 94,
   "metadata": {},
   "outputs": [],
   "source": [
    "import Wheel_Controller as wc\n",
    "import time\n",
    "\n",
    "tkr = \"NVDA\"\n",
    "while(True):\n",
    "  if (wc.trade_active()): #If trade active wait\n",
    "    time.sleep(3600)\n",
    "  elif(wc.puts_cycle(tkr)): #If no trades and still own 100 stocks\n",
    "    wc.sell_puts(tkr)\n",
    "  else:\n",
    "    wc.sell_calls(tkr)\n",
    "\n"
   ]
  },
  {
   "cell_type": "code",
   "execution_count": 106,
   "metadata": {},
   "outputs": [
    {
     "name": "stdout",
     "output_type": "stream",
     "text": [
      "<class 'int'>\n",
      "200\n"
     ]
    }
   ],
   "source": [
    "# SELL PUTS\n",
    "import requests\n",
    "import pandas as pd\n",
    "import math\n",
    "\n",
    "headers = {\n",
    "    \"accept\": \"application/json\",\n",
    "    \"APCA-API-KEY-ID\": \"PKX38EM432GQ49SYV8SA\",\n",
    "    \"APCA-API-SECRET-KEY\": \"lXwrv1l82QIQvvwakv6hWQ8s6JYSmEEW9MAu7vX8\"\n",
    "}\n",
    "\n",
    "\n",
    "\n",
    "date = \"2024-07-05\" # ONE WEEK INTO FURUTRE YYYY-MM-DD\n",
    "tkr = \"NVDA\"\n",
    "def get_current_price(tkr):\n",
    "    price_url = f\"https://data.alpaca.markets/v2/stocks/bars/latest?symbols={tkr}\"\n",
    "    price_data = requests.get(price_url, headers=headers).json()\n",
    "    return float(price_data['bars'][f\"{tkr}\"]['c'])\n",
    "\n",
    "curr_price = get_current_price(tkr) # USE AS UPPER BOUND\n",
    "strike_price = math.floor(curr_price - (math.ceil(curr_price * .01))) # USE AS LOWER BOUND\n",
    "\n",
    "puts_url = f\"https://paper-api.alpaca.markets/v2/options/contracts?underlying_symbol={tkr}&expiration_date_lte={date}&type=put&strike_price_gte={strike_price}&strike_price_lte={curr_price}&limit=20\"\n",
    "puts_resp = requests.get(puts_url, headers=headers)\n",
    "print(type(puts_resp.status_code))\n",
    "print(puts_resp.status_code)\n",
    "puts_data = puts_resp.json()['option_contracts']\n",
    "contract_id = puts_data[len(puts_data)-1]['symbol']\n",
    "\n",
    "\n"
   ]
  },
  {
   "cell_type": "code",
   "execution_count": 113,
   "metadata": {},
   "outputs": [
    {
     "name": "stdout",
     "output_type": "stream",
     "text": [
      "[{'asset_id': '4ce9353c-66d1-46c2-898f-fce867ab0247', 'symbol': 'NVDA', 'exchange': 'NASDAQ', 'asset_class': 'us_equity', 'asset_marginable': True, 'qty': '100', 'avg_entry_price': '122.98', 'side': 'long', 'market_value': '12354', 'cost_basis': '12298', 'unrealized_pl': '56', 'unrealized_plpc': '0.0045535859489348', 'unrealized_intraday_pl': '0', 'unrealized_intraday_plpc': '0', 'current_price': '123.54', 'lastday_price': '123.54', 'change_today': '0', 'qty_available': '100'}]\n"
     ]
    }
   ],
   "source": [
    "# TRADE ACTIVE\n",
    "import requests\n",
    "\n",
    "url = \"https://paper-api.alpaca.markets/v2\"\n",
    "\n",
    "headers = {\n",
    "    \"accept\": \"application/json\",\n",
    "    \"APCA-API-KEY-ID\": \"PKX38EM432GQ49SYV8SA\",\n",
    "    \"APCA-API-SECRET-KEY\": \"lXwrv1l82QIQvvwakv6hWQ8s6JYSmEEW9MAu7vX8\"\n",
    "}\n",
    "def trades_active():\n",
    "    response = requests.get(url+\"/positions\", headers=headers)\n",
    "    if (response.status_code == 200):\n",
    "      positions = response.json()\n",
    "      for position in positions:\n",
    "         if (len(position['symbol']) > 4):\n",
    "            return True\n",
    "      return False\n",
    "    else:\n",
    "       #time.sleep(60)\n",
    "       trades_active()\n",
    "    print(positions)\n",
    "\n",
    "trades_active()\n"
   ]
  },
  {
   "cell_type": "code",
   "execution_count": 101,
   "metadata": {},
   "outputs": [
    {
     "name": "stdout",
     "output_type": "stream",
     "text": [
      "2024-07-03\n"
     ]
    }
   ],
   "source": [
    "\n",
    "# GET next exp day\n",
    "from datetime import datetime, timedelta\n",
    "dt = datetime.now()\n",
    "td = timedelta(days=7)\n",
    "# your calculated date\n",
    "my_date = dt + td\n",
    "\n",
    "def get_exp_date():\n",
    "    dt = datetime.now()\n",
    "    td = timedelta(days=7)\n",
    "    # your calculated date\n",
    "    next_exp = dt + td\n",
    "    return next_exp.strftime(\"%Y\")+\"-\"+next_exp.strftime(\"%m\")+\"-\"+next_exp.strftime(\"%d\")\n",
    "print (get_exp_date())\n",
    "\n"
   ]
  },
  {
   "cell_type": "code",
   "execution_count": null,
   "metadata": {},
   "outputs": [],
   "source": [
    "# SUBMIT ORDER FOR SELL PUTS\n",
    "# id = get_options_id() // not_implemented\n",
    "sell_puts_payload = {\n",
    "  \"symbol\": puts_data[len(puts_data)-1]['symbol'], # EX OF id: \"AAPL231201P00175000\"\n",
    "  \"qty\": \"1\",\n",
    "  \"side\": \"sell\",\n",
    "  \"type\": \"market\",\n",
    "  \"time_in_force\": \"day\"\n",
    "}\n",
    "\n",
    "orders_url = \"https://paper-api.alpaca.markets/v2/orders\"\n",
    "response = requests.post(orders_url, json=sell_puts_payload, headers=headers)\n"
   ]
  },
  {
   "cell_type": "code",
   "execution_count": 114,
   "metadata": {},
   "outputs": [
    {
     "name": "stdout",
     "output_type": "stream",
     "text": [
      "{'option_contracts': [{'id': '8584f300-590d-4072-b6f3-9516294c5847', 'symbol': 'NVDA240705P00124000', 'name': 'NVDA Jul 05 2024 124 Put', 'status': 'active', 'tradable': True, 'expiration_date': '2024-07-05', 'root_symbol': 'NVDA', 'underlying_symbol': 'NVDA', 'underlying_asset_id': '4ce9353c-66d1-46c2-898f-fce867ab0247', 'type': 'put', 'style': 'american', 'strike_price': '124', 'multiplier': '100', 'size': '100', 'open_interest': '9688', 'open_interest_date': '2024-06-28', 'close_price': '3.03', 'close_price_date': '2024-06-28'}, {'id': '498f8623-4821-4bfa-b341-d9e47c24954f', 'symbol': 'NVDA240705P00125000', 'name': 'NVDA Jul 05 2024 125 Put', 'status': 'active', 'tradable': True, 'expiration_date': '2024-07-05', 'root_symbol': 'NVDA', 'underlying_symbol': 'NVDA', 'underlying_asset_id': '4ce9353c-66d1-46c2-898f-fce867ab0247', 'type': 'put', 'style': 'american', 'strike_price': '125', 'multiplier': '100', 'size': '100', 'open_interest': '15925', 'open_interest_date': '2024-06-28', 'close_price': '3.59', 'close_price_date': '2024-06-28'}, {'id': 'e250eeea-caa6-4925-b4c5-8ca0368e7019', 'symbol': 'NVDA240705P00126000', 'name': 'NVDA Jul 05 2024 126 Put', 'status': 'active', 'tradable': True, 'expiration_date': '2024-07-05', 'root_symbol': 'NVDA', 'underlying_symbol': 'NVDA', 'underlying_asset_id': '4ce9353c-66d1-46c2-898f-fce867ab0247', 'type': 'put', 'style': 'american', 'strike_price': '126', 'multiplier': '100', 'size': '100', 'open_interest': '4250', 'open_interest_date': '2024-06-28', 'close_price': '4.17', 'close_price_date': '2024-06-28'}], 'next_page_token': None}\n"
     ]
    }
   ],
   "source": [
    "\n",
    "puts_url = \"https://paper-api.alpaca.markets/v2/options/contracts?underlying_symbols=NVDA&expiration_date=2024-07-05&type=put&strike_price_gte=124&strike_price_lte=126&limit=20\"\n",
    "puts_data = requests.get(puts_url, headers=headers).json()\n",
    "print(puts_data)"
   ]
  },
  {
   "cell_type": "code",
   "execution_count": 88,
   "metadata": {},
   "outputs": [
    {
     "name": "stdout",
     "output_type": "stream",
     "text": [
      "123\n"
     ]
    }
   ],
   "source": [
    "\n",
    "import math\n",
    "headers = {\n",
    "    \"accept\": \"application/json\",\n",
    "    \"APCA-API-KEY-ID\": \"PKX38EM432GQ49SYV8SA\",\n",
    "    \"APCA-API-SECRET-KEY\": \"lXwrv1l82QIQvvwakv6hWQ8s6JYSmEEW9MAu7vX8\"\n",
    "}\n",
    "\n",
    "def get_current_price(tkr):\n",
    "    price_url = f\"https://data.alpaca.markets/v2/stocks/bars/latest?symbols={tkr}\"\n",
    "    price_data = requests.get(price_url, headers=headers).json()\n",
    "    return float(price_data['bars'][f\"{tkr}\"]['c'])\n",
    "curr_price = get_current_price(\"NVDA\")\n",
    "strike_price = math.floor(curr_price - (math.ceil(curr_price * .01)))\n",
    "print(strike_price)\n"
   ]
  }
 ],
 "metadata": {
  "kernelspec": {
   "display_name": "Python 3",
   "language": "python",
   "name": "python3"
  },
  "language_info": {
   "codemirror_mode": {
    "name": "ipython",
    "version": 3
   },
   "file_extension": ".py",
   "mimetype": "text/x-python",
   "name": "python",
   "nbconvert_exporter": "python",
   "pygments_lexer": "ipython3",
   "version": "3.11.9"
  }
 },
 "nbformat": 4,
 "nbformat_minor": 2
}
